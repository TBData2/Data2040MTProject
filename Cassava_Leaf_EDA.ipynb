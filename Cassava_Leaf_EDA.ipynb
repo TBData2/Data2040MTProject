{
  "nbformat": 4,
  "nbformat_minor": 0,
  "metadata": {
    "colab": {
      "name": "Cassava_Leaf_EDA.ipynb",
      "provenance": [],
      "include_colab_link": true
    },
    "kernelspec": {
      "name": "python3",
      "display_name": "Python 3"
    }
  },
  "cells": [
    {
      "cell_type": "markdown",
      "metadata": {
        "id": "view-in-github",
        "colab_type": "text"
      },
      "source": [
        "<a href=\"https://colab.research.google.com/github/TBData2/Data2040MTProject/blob/main/Cassava_Leaf_EDA.ipynb\" target=\"_parent\"><img src=\"https://colab.research.google.com/assets/colab-badge.svg\" alt=\"Open In Colab\"/></a>"
      ]
    },
    {
      "cell_type": "markdown",
      "metadata": {
        "id": "2YIyRN_bM90X"
      },
      "source": [
        "# **Cassava Leaf EDA**\n",
        "\n",
        "by TBData2\n"
      ]
    },
    {
      "cell_type": "markdown",
      "metadata": {
        "id": "kebjwJz8RgHe"
      },
      "source": [
        "## Temporary reference\n",
        "https://www.kaggle.com/ihelon/cassava-leaf-disease-exploratory-data-analysis"
      ]
    },
    {
      "cell_type": "markdown",
      "metadata": {
        "id": "kYwW81CERowO"
      },
      "source": [
        "## Overview"
      ]
    },
    {
      "cell_type": "code",
      "metadata": {
        "id": "CRPwhI0eKkYj"
      },
      "source": [
        "import os\n",
        "import json\n",
        "\n",
        "import numpy as np\n",
        "import pandas as pd\n",
        "import seaborn as sn\n",
        "import matplotlib.pyplot as plt\n",
        "# import cv2\n",
        "# import albumentations as A\n",
        "# from sklearn import metrics as sk_metrics"
      ],
      "execution_count": null,
      "outputs": []
    },
    {
      "cell_type": "code",
      "metadata": {
        "colab": {
          "base_uri": "https://localhost:8080/"
        },
        "id": "2YIXGOdaHTEi",
        "outputId": "0739624f-aeef-49a6-cdea-63491cbed8e6"
      },
      "source": [
        "# Mount the drive to colab notebook\n",
        "from google.colab import drive\n",
        "drive.mount('/content/drive')\n",
        "path = \"/content/drive/MyDrive/Cassava Leaf/data/\""
      ],
      "execution_count": null,
      "outputs": [
        {
          "output_type": "stream",
          "text": [
            "Mounted at /content/drive\n"
          ],
          "name": "stdout"
        }
      ]
    },
    {
      "cell_type": "code",
      "metadata": {
        "id": "yALsOJ2oIx2m"
      },
      "source": [
        "# provide config path\n",
        "import os\n",
        "os.environ['KAGGLE_CONFIG_DIR'] = \"/content/drive/MyDrive/Cassava Leaf/data\""
      ],
      "execution_count": null,
      "outputs": []
    },
    {
      "cell_type": "code",
      "metadata": {
        "colab": {
          "base_uri": "https://localhost:8080/",
          "height": 52
        },
        "id": "9D92sjnuJe7h",
        "outputId": "16fe5246-f4e4-47e0-cbd2-fddd257f36b5"
      },
      "source": [
        "# changing the working directory\n",
        "%cd /content/drive/MyDrive/Cassava Leaf/data\n",
        "%pwd"
      ],
      "execution_count": null,
      "outputs": [
        {
          "output_type": "stream",
          "text": [
            "/content/drive/.shortcut-targets-by-id/18q-XmWJkL48k8ivOjrLxz5gz_urPuSrO/Cassava Leaf/data\n"
          ],
          "name": "stdout"
        },
        {
          "output_type": "execute_result",
          "data": {
            "application/vnd.google.colaboratory.intrinsic+json": {
              "type": "string"
            },
            "text/plain": [
              "'/content/drive/.shortcut-targets-by-id/18q-XmWJkL48k8ivOjrLxz5gz_urPuSrO/Cassava Leaf/data'"
            ]
          },
          "metadata": {
            "tags": []
          },
          "execution_count": 7
        }
      ]
    },
    {
      "cell_type": "code",
      "metadata": {
        "colab": {
          "base_uri": "https://localhost:8080/"
        },
        "id": "sMMLPlYuJuq8",
        "outputId": "55b01bcf-c128-4f2f-bfa9-337674007dbe"
      },
      "source": [
        "# set up base directory\n",
        "BASE_DIR = \"/content/drive/MyDrive/Cassava Leaf/data/\"\n",
        "# checkout the label-disease map\n",
        "with open(os.path.join(BASE_DIR, \"label_num_to_disease_map.json\")) as file:\n",
        "    map_classes = json.loads(file.read())\n",
        "    map_classes = {int(k) : v for k, v in map_classes.items()}\n",
        "    \n",
        "print(json.dumps(map_classes, indent=4))"
      ],
      "execution_count": null,
      "outputs": [
        {
          "output_type": "stream",
          "text": [
            "{\n",
            "    \"0\": \"Cassava Bacterial Blight (CBB)\",\n",
            "    \"1\": \"Cassava Brown Streak Disease (CBSD)\",\n",
            "    \"2\": \"Cassava Green Mottle (CGM)\",\n",
            "    \"3\": \"Cassava Mosaic Disease (CMD)\",\n",
            "    \"4\": \"Healthy\"\n",
            "}\n"
          ],
          "name": "stdout"
        }
      ]
    },
    {
      "cell_type": "code",
      "metadata": {
        "colab": {
          "base_uri": "https://localhost:8080/"
        },
        "id": "wujLGYdEM9Lf",
        "outputId": "734ad56f-f034-4bdb-dd4e-b5a3cb6c193c"
      },
      "source": [
        "# checkout the length of training set\n",
        "# should be 21397\n",
        "input_files = os.listdir(os.path.join(BASE_DIR, \"train_images\"))\n",
        "print(f\"Number of train images: {len(input_files)}\")"
      ],
      "execution_count": null,
      "outputs": [
        {
          "output_type": "stream",
          "text": [
            "Number of train images: 21448\n"
          ],
          "name": "stdout"
        }
      ]
    },
    {
      "cell_type": "code",
      "metadata": {
        "colab": {
          "base_uri": "https://localhost:8080/",
          "height": 236
        },
        "id": "5UHm84_WNnAM",
        "outputId": "4e491fc9-bc49-4bd0-8dd3-0b310baad2f5"
      },
      "source": [
        "# checkout the size of each image\n",
        "img_shapes = {}\n",
        "for image_name in os.listdir(os.path.join(BASE_DIR, \"train_images\"))[:300]:\n",
        "    image = cv2.imread(os.path.join(BASE_DIR, \"train_images\", image_name))\n",
        "    img_shapes[image.shape] = img_shapes.get(image.shape, 0) + 1\n",
        "\n",
        "print(img_shapes)"
      ],
      "execution_count": null,
      "outputs": [
        {
          "output_type": "error",
          "ename": "NameError",
          "evalue": "ignored",
          "traceback": [
            "\u001b[0;31m---------------------------------------------------------------------------\u001b[0m",
            "\u001b[0;31mNameError\u001b[0m                                 Traceback (most recent call last)",
            "\u001b[0;32m<ipython-input-12-ada55ba546a5>\u001b[0m in \u001b[0;36m<module>\u001b[0;34m()\u001b[0m\n\u001b[1;32m      2\u001b[0m \u001b[0mimg_shapes\u001b[0m \u001b[0;34m=\u001b[0m \u001b[0;34m{\u001b[0m\u001b[0;34m}\u001b[0m\u001b[0;34m\u001b[0m\u001b[0;34m\u001b[0m\u001b[0m\n\u001b[1;32m      3\u001b[0m \u001b[0;32mfor\u001b[0m \u001b[0mimage_name\u001b[0m \u001b[0;32min\u001b[0m \u001b[0mos\u001b[0m\u001b[0;34m.\u001b[0m\u001b[0mlistdir\u001b[0m\u001b[0;34m(\u001b[0m\u001b[0mos\u001b[0m\u001b[0;34m.\u001b[0m\u001b[0mpath\u001b[0m\u001b[0;34m.\u001b[0m\u001b[0mjoin\u001b[0m\u001b[0;34m(\u001b[0m\u001b[0mBASE_DIR\u001b[0m\u001b[0;34m,\u001b[0m \u001b[0;34m\"train_images\"\u001b[0m\u001b[0;34m)\u001b[0m\u001b[0;34m)\u001b[0m\u001b[0;34m[\u001b[0m\u001b[0;34m:\u001b[0m\u001b[0;36m300\u001b[0m\u001b[0;34m]\u001b[0m\u001b[0;34m:\u001b[0m\u001b[0;34m\u001b[0m\u001b[0;34m\u001b[0m\u001b[0m\n\u001b[0;32m----> 4\u001b[0;31m     \u001b[0mimage\u001b[0m \u001b[0;34m=\u001b[0m \u001b[0mcv2\u001b[0m\u001b[0;34m.\u001b[0m\u001b[0mimread\u001b[0m\u001b[0;34m(\u001b[0m\u001b[0mos\u001b[0m\u001b[0;34m.\u001b[0m\u001b[0mpath\u001b[0m\u001b[0;34m.\u001b[0m\u001b[0mjoin\u001b[0m\u001b[0;34m(\u001b[0m\u001b[0mBASE_DIR\u001b[0m\u001b[0;34m,\u001b[0m \u001b[0;34m\"train_images\"\u001b[0m\u001b[0;34m,\u001b[0m \u001b[0mimage_name\u001b[0m\u001b[0;34m)\u001b[0m\u001b[0;34m)\u001b[0m\u001b[0;34m\u001b[0m\u001b[0;34m\u001b[0m\u001b[0m\n\u001b[0m\u001b[1;32m      5\u001b[0m     \u001b[0mimg_shapes\u001b[0m\u001b[0;34m[\u001b[0m\u001b[0mimage\u001b[0m\u001b[0;34m.\u001b[0m\u001b[0mshape\u001b[0m\u001b[0;34m]\u001b[0m \u001b[0;34m=\u001b[0m \u001b[0mimg_shapes\u001b[0m\u001b[0;34m.\u001b[0m\u001b[0mget\u001b[0m\u001b[0;34m(\u001b[0m\u001b[0mimage\u001b[0m\u001b[0;34m.\u001b[0m\u001b[0mshape\u001b[0m\u001b[0;34m,\u001b[0m \u001b[0;36m0\u001b[0m\u001b[0;34m)\u001b[0m \u001b[0;34m+\u001b[0m \u001b[0;36m1\u001b[0m\u001b[0;34m\u001b[0m\u001b[0;34m\u001b[0m\u001b[0m\n\u001b[1;32m      6\u001b[0m \u001b[0;34m\u001b[0m\u001b[0m\n",
            "\u001b[0;31mNameError\u001b[0m: name 'cv2' is not defined"
          ]
        }
      ]
    },
    {
      "cell_type": "code",
      "metadata": {
        "colab": {
          "base_uri": "https://localhost:8080/",
          "height": 419
        },
        "id": "FAz7QQf3N1Aj",
        "outputId": "39662359-36f4-42e6-bfc6-04cd3050bef1"
      },
      "source": [
        "# checkout the training set as dataframe\n",
        "df_train = pd.read_csv(os.path.join(BASE_DIR, \"train.csv\"))\n",
        "\n",
        "df_train[\"class_name\"] = df_train[\"label\"].map(map_classes)\n",
        "\n",
        "df_train"
      ],
      "execution_count": null,
      "outputs": [
        {
          "output_type": "execute_result",
          "data": {
            "text/html": [
              "<div>\n",
              "<style scoped>\n",
              "    .dataframe tbody tr th:only-of-type {\n",
              "        vertical-align: middle;\n",
              "    }\n",
              "\n",
              "    .dataframe tbody tr th {\n",
              "        vertical-align: top;\n",
              "    }\n",
              "\n",
              "    .dataframe thead th {\n",
              "        text-align: right;\n",
              "    }\n",
              "</style>\n",
              "<table border=\"1\" class=\"dataframe\">\n",
              "  <thead>\n",
              "    <tr style=\"text-align: right;\">\n",
              "      <th></th>\n",
              "      <th>image_id</th>\n",
              "      <th>label</th>\n",
              "      <th>class_name</th>\n",
              "    </tr>\n",
              "  </thead>\n",
              "  <tbody>\n",
              "    <tr>\n",
              "      <th>0</th>\n",
              "      <td>1000015157.jpg</td>\n",
              "      <td>0</td>\n",
              "      <td>Cassava Bacterial Blight (CBB)</td>\n",
              "    </tr>\n",
              "    <tr>\n",
              "      <th>1</th>\n",
              "      <td>1000201771.jpg</td>\n",
              "      <td>3</td>\n",
              "      <td>Cassava Mosaic Disease (CMD)</td>\n",
              "    </tr>\n",
              "    <tr>\n",
              "      <th>2</th>\n",
              "      <td>100042118.jpg</td>\n",
              "      <td>1</td>\n",
              "      <td>Cassava Brown Streak Disease (CBSD)</td>\n",
              "    </tr>\n",
              "    <tr>\n",
              "      <th>3</th>\n",
              "      <td>1000723321.jpg</td>\n",
              "      <td>1</td>\n",
              "      <td>Cassava Brown Streak Disease (CBSD)</td>\n",
              "    </tr>\n",
              "    <tr>\n",
              "      <th>4</th>\n",
              "      <td>1000812911.jpg</td>\n",
              "      <td>3</td>\n",
              "      <td>Cassava Mosaic Disease (CMD)</td>\n",
              "    </tr>\n",
              "    <tr>\n",
              "      <th>...</th>\n",
              "      <td>...</td>\n",
              "      <td>...</td>\n",
              "      <td>...</td>\n",
              "    </tr>\n",
              "    <tr>\n",
              "      <th>21392</th>\n",
              "      <td>999068805.jpg</td>\n",
              "      <td>3</td>\n",
              "      <td>Cassava Mosaic Disease (CMD)</td>\n",
              "    </tr>\n",
              "    <tr>\n",
              "      <th>21393</th>\n",
              "      <td>999329392.jpg</td>\n",
              "      <td>3</td>\n",
              "      <td>Cassava Mosaic Disease (CMD)</td>\n",
              "    </tr>\n",
              "    <tr>\n",
              "      <th>21394</th>\n",
              "      <td>999474432.jpg</td>\n",
              "      <td>1</td>\n",
              "      <td>Cassava Brown Streak Disease (CBSD)</td>\n",
              "    </tr>\n",
              "    <tr>\n",
              "      <th>21395</th>\n",
              "      <td>999616605.jpg</td>\n",
              "      <td>4</td>\n",
              "      <td>Healthy</td>\n",
              "    </tr>\n",
              "    <tr>\n",
              "      <th>21396</th>\n",
              "      <td>999998473.jpg</td>\n",
              "      <td>4</td>\n",
              "      <td>Healthy</td>\n",
              "    </tr>\n",
              "  </tbody>\n",
              "</table>\n",
              "<p>21397 rows × 3 columns</p>\n",
              "</div>"
            ],
            "text/plain": [
              "             image_id  label                           class_name\n",
              "0      1000015157.jpg      0       Cassava Bacterial Blight (CBB)\n",
              "1      1000201771.jpg      3         Cassava Mosaic Disease (CMD)\n",
              "2       100042118.jpg      1  Cassava Brown Streak Disease (CBSD)\n",
              "3      1000723321.jpg      1  Cassava Brown Streak Disease (CBSD)\n",
              "4      1000812911.jpg      3         Cassava Mosaic Disease (CMD)\n",
              "...               ...    ...                                  ...\n",
              "21392   999068805.jpg      3         Cassava Mosaic Disease (CMD)\n",
              "21393   999329392.jpg      3         Cassava Mosaic Disease (CMD)\n",
              "21394   999474432.jpg      1  Cassava Brown Streak Disease (CBSD)\n",
              "21395   999616605.jpg      4                              Healthy\n",
              "21396   999998473.jpg      4                              Healthy\n",
              "\n",
              "[21397 rows x 3 columns]"
            ]
          },
          "metadata": {
            "tags": []
          },
          "execution_count": 13
        }
      ]
    },
    {
      "cell_type": "code",
      "metadata": {
        "colab": {
          "base_uri": "https://localhost:8080/"
        },
        "id": "LjyQV9bESNh9",
        "outputId": "a176dded-e4a1-4d05-cd4b-73fad7e20727"
      },
      "source": [
        "# checkout the value counts for each label\n",
        "df_train[\"label\"].value_counts()"
      ],
      "execution_count": null,
      "outputs": [
        {
          "output_type": "execute_result",
          "data": {
            "text/plain": [
              "3    13158\n",
              "4     2577\n",
              "2     2386\n",
              "1     2189\n",
              "0     1087\n",
              "Name: label, dtype: int64"
            ]
          },
          "metadata": {
            "tags": []
          },
          "execution_count": 14
        }
      ]
    },
    {
      "cell_type": "code",
      "metadata": {
        "colab": {
          "base_uri": "https://localhost:8080/",
          "height": 279
        },
        "id": "RM8l3RS6RWQJ",
        "outputId": "4a794451-7a18-43df-c365-9e3e3014b18d"
      },
      "source": [
        "# value counts to plot\n",
        "# seaborn is a Python data visualization library based on matplotlib.\n",
        "plt.figure(figsize=(8, 4))\n",
        "sn.countplot(y=\"class_name\", data=df_train);"
      ],
      "execution_count": null,
      "outputs": [
        {
          "output_type": "display_data",
          "data": {
            "image/png": "[encoded data removed]",
            "text/plain": [
              "<Figure size 576x288 with 1 Axes>"
            ]
          },
          "metadata": {
            "tags": [],
            "needs_background": "light"
          }
        }
      ]
    },
    {
      "cell_type": "markdown",
      "metadata": {
        "id": "lns3X1N5TYzw"
      },
      "source": [
        "\n",
        "\n",
        "## Visualization"
      ]
    },
    {
      "cell_type": "code",
      "metadata": {
        "id": "coa2czSlTYTX"
      },
      "source": [
        "# This function takes image_ids and labels as in df_train,\n",
        "# and returns\n",
        "def visualize_batch(image_ids, labels):\n",
        "    plt.figure(figsize=(16, 12))\n",
        "    \n",
        "    for ind, (image_id, label) in enumerate(zip(image_ids, labels)):\n",
        "        plt.subplot(3, 3, ind + 1)\n",
        "        image = cv2.imread(os.path.join(BASE_DIR, \"train_images\", image_id))\n",
        "        image = cv2.cvtColor(image, cv2.COLOR_BGR2RGB)\n",
        "\n",
        "        plt.imshow(image)\n",
        "        plt.title(f\"Class: {label}\", fontsize=12)\n",
        "        plt.axis(\"off\")\n",
        "    \n",
        "    plt.show()"
      ],
      "execution_count": null,
      "outputs": []
    },
    {
      "cell_type": "markdown",
      "metadata": {
        "id": "B6W9UQ4vZT2I"
      },
      "source": [
        "## Baseline Model: Logistic Regression"
      ]
    },
    {
      "cell_type": "code",
      "metadata": {
        "id": "scPzc3AsZS81"
      },
      "source": [
        "from sklearn.linear_model import LogisticRegression"
      ],
      "execution_count": null,
      "outputs": []
    },
    {
      "cell_type": "code",
      "metadata": {
        "id": "j1mru4HdgmQJ"
      },
      "source": [
        "from tqdm.notebook import tqdm \n",
        "np.random.seed(42)"
      ],
      "execution_count": null,
      "outputs": []
    },
    {
      "cell_type": "code",
      "metadata": {
        "colab": {
          "base_uri": "https://localhost:8080/",
          "height": 235
        },
        "id": "iQeqnNgFhjQE",
        "outputId": "2efbe718-01a9-4406-d309-f98df94f5fa5"
      },
      "source": [
        "df_samp = pd.DataFrame()\n",
        "\n",
        "df_samp = df_samp.append(df_train.sample(2000), ignore_index=True)\n",
        "\n",
        "df_samp.groupby(by='class_name').count()"
      ],
      "execution_count": null,
      "outputs": [
        {
          "output_type": "execute_result",
          "data": {
            "text/html": [
              "<div>\n",
              "<style scoped>\n",
              "    .dataframe tbody tr th:only-of-type {\n",
              "        vertical-align: middle;\n",
              "    }\n",
              "\n",
              "    .dataframe tbody tr th {\n",
              "        vertical-align: top;\n",
              "    }\n",
              "\n",
              "    .dataframe thead th {\n",
              "        text-align: right;\n",
              "    }\n",
              "</style>\n",
              "<table border=\"1\" class=\"dataframe\">\n",
              "  <thead>\n",
              "    <tr style=\"text-align: right;\">\n",
              "      <th></th>\n",
              "      <th>image_id</th>\n",
              "      <th>label</th>\n",
              "    </tr>\n",
              "    <tr>\n",
              "      <th>class_name</th>\n",
              "      <th></th>\n",
              "      <th></th>\n",
              "    </tr>\n",
              "  </thead>\n",
              "  <tbody>\n",
              "    <tr>\n",
              "      <th>Cassava Bacterial Blight (CBB)</th>\n",
              "      <td>104</td>\n",
              "      <td>104</td>\n",
              "    </tr>\n",
              "    <tr>\n",
              "      <th>Cassava Brown Streak Disease (CBSD)</th>\n",
              "      <td>217</td>\n",
              "      <td>217</td>\n",
              "    </tr>\n",
              "    <tr>\n",
              "      <th>Cassava Green Mottle (CGM)</th>\n",
              "      <td>213</td>\n",
              "      <td>213</td>\n",
              "    </tr>\n",
              "    <tr>\n",
              "      <th>Cassava Mosaic Disease (CMD)</th>\n",
              "      <td>1218</td>\n",
              "      <td>1218</td>\n",
              "    </tr>\n",
              "    <tr>\n",
              "      <th>Healthy</th>\n",
              "      <td>248</td>\n",
              "      <td>248</td>\n",
              "    </tr>\n",
              "  </tbody>\n",
              "</table>\n",
              "</div>"
            ],
            "text/plain": [
              "                                     image_id  label\n",
              "class_name                                          \n",
              "Cassava Bacterial Blight (CBB)            104    104\n",
              "Cassava Brown Streak Disease (CBSD)       217    217\n",
              "Cassava Green Mottle (CGM)                213    213\n",
              "Cassava Mosaic Disease (CMD)             1218   1218\n",
              "Healthy                                   248    248"
            ]
          },
          "metadata": {
            "tags": []
          },
          "execution_count": 20
        }
      ]
    },
    {
      "cell_type": "code",
      "metadata": {
        "id": "FpVqjQZ7iOVw"
      },
      "source": [
        "from sklearn.utils import shuffle\n",
        "\n",
        "df_samp = shuffle(df_samp).reset_index(drop=True) #shuffling the dataframe"
      ],
      "execution_count": null,
      "outputs": []
    },
    {
      "cell_type": "code",
      "metadata": {
        "colab": {
          "base_uri": "https://localhost:8080/"
        },
        "id": "hrpXziRMiVKk",
        "outputId": "115b64ce-5035-45d3-b165-3589af1075c5"
      },
      "source": [
        "from sklearn.model_selection import train_test_split\n",
        "\n",
        "X = df_samp.drop(columns=['label'])\n",
        "y = df_samp.label\n",
        "\n",
        "X_train, X_valid, y_train, y_valid = train_test_split(X, y, test_size=0.3, stratify=y)\n",
        "\n",
        "print(X_train.shape)\n",
        "print(len(y_train))\n",
        "print(X_valid.shape)\n",
        "print(len(y_valid))"
      ],
      "execution_count": null,
      "outputs": [
        {
          "output_type": "stream",
          "text": [
            "(1400, 2)\n",
            "1400\n",
            "(600, 2)\n",
            "600\n"
          ],
          "name": "stdout"
        }
      ]
    },
    {
      "cell_type": "code",
      "metadata": {
        "id": "mb0vZ6E8al5m"
      },
      "source": [
        "lr = LogisticRegression(class_weight='balanced', verbose=5, n_jobs=-1)"
      ],
      "execution_count": null,
      "outputs": []
    }
  ]
}